{
 "cells": [
  {
   "cell_type": "code",
   "execution_count": null,
   "metadata": {
    "collapsed": true
   },
   "outputs": [],
   "source": [
    "# allow import with no install\n",
    "import sys\n",
    "sys.path.append(\"..\")"
   ]
  },
  {
   "cell_type": "code",
   "execution_count": null,
   "metadata": {
    "collapsed": false
   },
   "outputs": [],
   "source": [
    "from spatial_transcriptomics_viz import tsne_display"
   ]
  },
  {
   "cell_type": "code",
   "execution_count": null,
   "metadata": {
    "collapsed": true
   },
   "outputs": [],
   "source": [
    "#filename = \"../data/eg2.tsv\"\n",
    "filename = \"test_data.tsv\""
   ]
  },
  {
   "cell_type": "code",
   "execution_count": null,
   "metadata": {
    "collapsed": false
   },
   "outputs": [],
   "source": [
    "data = tsne_display.Data(filename)\n",
    "S = tsne_display.Slides(data, 11)"
   ]
  },
  {
   "cell_type": "code",
   "execution_count": null,
   "metadata": {
    "collapsed": false
   },
   "outputs": [],
   "source": [
    "S.show()"
   ]
  },
  {
   "cell_type": "code",
   "execution_count": null,
   "metadata": {
    "collapsed": false
   },
   "outputs": [],
   "source": [
    "S.lasso_points"
   ]
  },
  {
   "cell_type": "code",
   "execution_count": null,
   "metadata": {
    "collapsed": true
   },
   "outputs": [],
   "source": [
    "S.enable_events()"
   ]
  },
  {
   "cell_type": "code",
   "execution_count": null,
   "metadata": {
    "collapsed": false
   },
   "outputs": [],
   "source": [
    "S.big_slide_drawing.buffered"
   ]
  },
  {
   "cell_type": "code",
   "execution_count": null,
   "metadata": {
    "collapsed": true
   },
   "outputs": [],
   "source": []
  }
 ],
 "metadata": {
  "kernelspec": {
   "display_name": "Python 2",
   "language": "python",
   "name": "python2"
  },
  "language_info": {
   "codemirror_mode": {
    "name": "ipython",
    "version": 2
   },
   "file_extension": ".py",
   "mimetype": "text/x-python",
   "name": "python",
   "nbconvert_exporter": "python",
   "pygments_lexer": "ipython2",
   "version": "2.7.11"
  },
  "widgets": {
   "state": {
    "284a570008884181a3aa26eb15ab9497": {
     "views": []
    },
    "2f20b68b3d524ac4bb4ea660df702d92": {
     "views": []
    },
    "3e14e653be3042d8b732be5ae56b6b19": {
     "views": []
    },
    "70e298e4e2fc44569d1288c3e1d70c98": {
     "views": []
    },
    "738082cb8fd64ea7aac2bc374cea140e": {
     "views": []
    },
    "a6dee2ab095c443ea126e1ea88c31751": {
     "views": []
    },
    "b197640f56ff4537b477f1fa14055a7f": {
     "views": []
    },
    "be0cb1c756604c43af2c941f3cbc8faa": {
     "views": []
    },
    "c91e6a744f104f2aa251e7ac4f67aef7": {
     "views": []
    },
    "d9621ec7ec664f129ffd9d83120680a9": {
     "views": []
    },
    "e162e0fb77a54a4a96878194bc3d4108": {
     "views": [
      {
       "cell_index": 4
      }
     ]
    },
    "edc4a87e21ee4513badecf09683b0557": {
     "views": []
    }
   },
   "version": "1.1.1"
  }
 },
 "nbformat": 4,
 "nbformat_minor": 0
}
