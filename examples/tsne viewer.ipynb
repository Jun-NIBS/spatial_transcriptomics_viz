{
 "cells": [
  {
   "cell_type": "code",
   "execution_count": null,
   "metadata": {
    "collapsed": true
   },
   "outputs": [],
   "source": [
    "# allow import with no install\n",
    "import sys\n",
    "sys.path.append(\"..\")"
   ]
  },
  {
   "cell_type": "code",
   "execution_count": null,
   "metadata": {
    "collapsed": false
   },
   "outputs": [],
   "source": [
    "from spatial_transcriptomics_viz import tsne_display"
   ]
  },
  {
   "cell_type": "code",
   "execution_count": null,
   "metadata": {
    "collapsed": true
   },
   "outputs": [],
   "source": [
    "#filename = \"../data/eg2.tsv\"\n",
    "filename = \"test_data.tsv\""
   ]
  },
  {
   "cell_type": "code",
   "execution_count": null,
   "metadata": {
    "collapsed": false
   },
   "outputs": [],
   "source": [
    "data = tsne_display.Data(filename)\n",
    "S = tsne_display.Slides(data, 11)"
   ]
  },
  {
   "cell_type": "code",
   "execution_count": null,
   "metadata": {
    "collapsed": false
   },
   "outputs": [],
   "source": [
    "S.show()"
   ]
  },
  {
   "cell_type": "code",
   "execution_count": null,
   "metadata": {
    "collapsed": false
   },
   "outputs": [],
   "source": [
    "S.lasso_points"
   ]
  },
  {
   "cell_type": "code",
   "execution_count": null,
   "metadata": {
    "collapsed": true
   },
   "outputs": [],
   "source": [
    "S.enable_events()"
   ]
  },
  {
   "cell_type": "code",
   "execution_count": null,
   "metadata": {
    "collapsed": false
   },
   "outputs": [],
   "source": [
    "S.big_slide_drawing.buffered"
   ]
  },
  {
   "cell_type": "code",
   "execution_count": null,
   "metadata": {
    "collapsed": true
   },
   "outputs": [],
   "source": []
  }
 ],
 "metadata": {
  "kernelspec": {
   "display_name": "Python 2",
   "language": "python",
   "name": "python2"
  },
  "language_info": {
   "codemirror_mode": {
    "name": "ipython",
    "version": 2
   },
   "file_extension": ".py",
   "mimetype": "text/x-python",
   "name": "python",
   "nbconvert_exporter": "python",
   "pygments_lexer": "ipython2",
   "version": "2.7.11"
  },
  "widgets": {
   "state": {
    "13ddfc464295460593c22f91f61d9bd9": {
     "views": []
    },
    "2d4161e2b0134b37bf8a2890ab16f74a": {
     "views": []
    },
    "473b86f7a6bc4613a5f580e1f8106ddb": {
     "views": []
    },
    "521299cd3020490d96200a17feeb188d": {
     "views": []
    },
    "6b762411ff2047c39ed0d8445ec42d55": {
     "views": [
      {
       "cell_index": 4
      }
     ]
    },
    "8269665ab71b45b2b926256578571f38": {
     "views": []
    },
    "a60b5888caeb494e91217d10feb38959": {
     "views": []
    },
    "bc32cf9c52354eebb6762384730a1581": {
     "views": []
    },
    "c4f833c054f34e6b9121533ae0527635": {
     "views": []
    },
    "c7e82c23c3d84c0fa778d2f0e5e0dcd1": {
     "views": []
    },
    "d82b7a655f3f4be8aa9428a8ef755da0": {
     "views": []
    },
    "f2755a18bfb942448ae14f5caeea0e25": {
     "views": []
    }
   },
   "version": "1.1.1"
  }
 },
 "nbformat": 4,
 "nbformat_minor": 0
}
