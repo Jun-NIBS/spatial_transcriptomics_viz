{
 "cells": [
  {
   "cell_type": "markdown",
   "metadata": {},
   "source": [
    "### Spot annotator\n",
    "\n",
    "This tool is designed to help identify anatomical categories for locations\n",
    "on microscopy slides.\n",
    "\n",
    "Select the label to apply to spots and then click the spots in the left display.\n",
    "The right display will show image detail under the last mouse click.\n",
    "\n",
    "Use the \"save\" button to archive categories to the\n",
    "file named in the textbox.  Use the\n",
    "\"restore\" button to load data last saved from the file named in text box.\n",
    "\n",
    "Note that because the image files are accessed using HTTP via the Jupyter\n",
    "notebook server they must be accessible below the Jupyter server root directory\n",
    "(see example and comments below).\n",
    "\n",
    "#### This tool has been tested using Chrome on MacOS.  There are known issues on Safari in MacOS at the moment."
   ]
  },
  {
   "cell_type": "code",
   "execution_count": null,
   "metadata": {
    "collapsed": false
   },
   "outputs": [],
   "source": [
    "from spatial_transcriptomics_viz import spot_annotator"
   ]
  },
  {
   "cell_type": "code",
   "execution_count": null,
   "metadata": {
    "collapsed": true
   },
   "outputs": [],
   "source": [
    "# This unpublished sample data is not included in the github repository.\n",
    "\n",
    "# The image files are \"served\" by the IPython server.  They\n",
    "# must be below the IPython server root directory.  It is best\n",
    "# to use relative filenames like the one below.\n",
    "image_href = \"../data/CN71_D1.jpg\"\n",
    "\n",
    "# Data \"tsv\" filenames may be at any valid file system location.\n",
    "tsv_data_path = \"../data/CN71_D1.tsv\""
   ]
  },
  {
   "cell_type": "code",
   "execution_count": null,
   "metadata": {
    "collapsed": false
   },
   "outputs": [],
   "source": [
    "A = spot_annotator.SpotAnnotator(image_href, tsv_data_path)"
   ]
  },
  {
   "cell_type": "code",
   "execution_count": null,
   "metadata": {
    "collapsed": false
   },
   "outputs": [],
   "source": [
    "A.show()"
   ]
  },
  {
   "cell_type": "code",
   "execution_count": null,
   "metadata": {
    "collapsed": true
   },
   "outputs": [],
   "source": []
  }
 ],
 "metadata": {
  "kernelspec": {
   "display_name": "Python 2",
   "language": "python",
   "name": "python2"
  },
  "language_info": {
   "codemirror_mode": {
    "name": "ipython",
    "version": 2
   },
   "file_extension": ".py",
   "mimetype": "text/x-python",
   "name": "python",
   "nbconvert_exporter": "python",
   "pygments_lexer": "ipython2",
   "version": "2.7.11"
  },
  "widgets": {
   "state": {
    "08a948f478154dd2bd6bb4c0c5e06641": {
     "views": []
    },
    "09f92fd964aa4e7a824fc27eed6e59c7": {
     "views": []
    },
    "131c1b1ec22d4ce393efc787a357adb4": {
     "views": []
    },
    "1d1a4f77c7874c7d817197003da33888": {
     "views": []
    },
    "2a725f6e7a7a44b483d7cacdd329ea09": {
     "views": []
    },
    "3d8b756104da4f14bec8fceeb2ad80c7": {
     "views": []
    },
    "3e4ec09d1e8140f7891f0894aa9baf20": {
     "views": []
    },
    "3e7c4e5411b24ff49b197294355e0460": {
     "views": []
    },
    "65c64513d01340b097e3321af8c54972": {
     "views": []
    },
    "6f19301104d442318489634a10438c9a": {
     "views": []
    },
    "9242bca338b04c289e7948a9b535275c": {
     "views": []
    },
    "96dabdc24a8b4861b674c7b5b44df949": {
     "views": []
    },
    "b1b4fde278124f5ea559665a595c42d6": {
     "views": []
    },
    "b2a9c7e90b934405ba5c5bb16063164c": {
     "views": []
    },
    "bc002efdc9984f789cf3b183736f9b40": {
     "views": []
    },
    "d0de521a16d342d9b7af1b2a7c7603dc": {
     "views": []
    },
    "dc32c090c2a745ef943462c7b001d27e": {
     "views": []
    },
    "fa86d694fac045bba2a53be6fa6dfa1b": {
     "views": [
      {
       "cell_index": 4
      }
     ]
    },
    "fb28498de6e043ecb321a2a18a5c3e41": {
     "views": []
    },
    "fc03b979db9f428da69eb859fe656858": {
     "views": []
    }
   },
   "version": "1.1.1"
  }
 },
 "nbformat": 4,
 "nbformat_minor": 0
}
