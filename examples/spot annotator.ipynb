{
 "cells": [
  {
   "cell_type": "markdown",
   "metadata": {},
   "source": [
    "### Spot annotator\n",
    "\n",
    "This tool is designed to help identify anatomical categories for locations\n",
    "on microscopy slides.\n",
    "\n",
    "Select the label to apply to spots and then click the spots in the left display.\n",
    "The right display will show image detail under the last mouse click.\n",
    "\n",
    "Use the \"save\" button to archive categories to the\n",
    "file named in the textbox.  Use the\n",
    "\"restore\" button to load data last saved from the file named in text box.\n",
    "\n",
    "#### This tool has been tested using Chrome on MacOS.  There are known issues on Safari in MacOS at the moment."
   ]
  },
  {
   "cell_type": "code",
   "execution_count": null,
   "metadata": {
    "collapsed": false
   },
   "outputs": [],
   "source": [
    "from spatial_transcriptomics_viz import spot_annotator"
   ]
  },
  {
   "cell_type": "code",
   "execution_count": null,
   "metadata": {
    "collapsed": true
   },
   "outputs": [],
   "source": [
    "# This unpublished sample data is not included in the github repository.\n",
    "image_path = \"../data/CN71_D1.jpg\"\n",
    "tsv_data_path = \"../data/CN71_D1.tsv\"\n",
    "spots_path = \"../data/CN71_D1_spots.jpg\""
   ]
  },
  {
   "cell_type": "code",
   "execution_count": null,
   "metadata": {
    "collapsed": false
   },
   "outputs": [],
   "source": [
    "A = spot_annotator.SpotAnnotator(tsv_data_path, image_path, radius=0.3, \n",
    "                                 spots_path=spots_path)"
   ]
  },
  {
   "cell_type": "code",
   "execution_count": null,
   "metadata": {
    "collapsed": false
   },
   "outputs": [],
   "source": [
    "A.show()"
   ]
  },
  {
   "cell_type": "code",
   "execution_count": null,
   "metadata": {
    "collapsed": true
   },
   "outputs": [],
   "source": []
  }
 ],
 "metadata": {
  "kernelspec": {
   "display_name": "Python 2",
   "language": "python",
   "name": "python2"
  },
  "language_info": {
   "codemirror_mode": {
    "name": "ipython",
    "version": 2
   },
   "file_extension": ".py",
   "mimetype": "text/x-python",
   "name": "python",
   "nbconvert_exporter": "python",
   "pygments_lexer": "ipython2",
   "version": "2.7.13"
  },
  "widgets": {
   "state": {
    "069e01b2bb5841b4840a82531a50a522": {
     "views": []
    },
    "0c2a5dfbd99c4f6bb6d26fce2c230c8d": {
     "views": []
    },
    "143a9469077b4a908e352fa05f4dc8d3": {
     "views": []
    },
    "2b8bd032a0a1493f8cdb2109fd1dc3d1": {
     "views": []
    },
    "2d8b40b8d13249e8b74fb01d87afdbe3": {
     "views": []
    },
    "3cffd0ce971347348ef27999d59c0ebe": {
     "views": []
    },
    "56828682c79c4dd4aaa95995f96da42c": {
     "views": []
    },
    "5ce1c0225402431ea40a03e64cf65c69": {
     "views": [
      {
       "cell_index": 4
      }
     ]
    },
    "6aaf8bae558742ed94c16e312bb86031": {
     "views": []
    },
    "7689cc8fd2a248b286d581179937b64a": {
     "views": []
    },
    "7cf98736154f436fa9d77d7d8d7347f8": {
     "views": []
    },
    "817fa66f32094cb59a18ce22dbeec53d": {
     "views": []
    },
    "86540f79a266422ca5e7885c649e21ef": {
     "views": []
    },
    "9804dcda9cfd4e13a1a5208bdbaad909": {
     "views": []
    },
    "9df36da87d3e455ab1206dc9ae704d6c": {
     "views": []
    },
    "a33f518e7c7341ec806dd30e9ed0eb11": {
     "views": []
    },
    "aa8718d6e0fb4245a716d352f1586637": {
     "views": []
    },
    "b8b7091a20ec4bc095bcc9b1913ada6d": {
     "views": []
    },
    "d33bc6e2e26b427ba521560d9ba5c094": {
     "views": []
    },
    "d6db589c1e4b4f8fa66352f54e5d0667": {
     "views": []
    },
    "ddd92a3a50b1448bb857adc15bea621c": {
     "views": []
    },
    "fc1c52ce90e1407f87587679291b0608": {
     "views": []
    }
   },
   "version": "1.1.1"
  }
 },
 "nbformat": 4,
 "nbformat_minor": 0
}
