{
 "cells": [
  {
   "cell_type": "markdown",
   "metadata": {},
   "source": [
    "### Spot annotator\n",
    "\n",
    "This tool is designed to help identify anatomical categories for locations\n",
    "on microscopy slides.\n",
    "\n",
    "Select the label to apply to spots and then click the spots in the left display.\n",
    "The right display will show image detail under the last mouse click.\n",
    "\n",
    "Use the \"save\" button to archive categories to the\n",
    "file named in the textbox.  Use the\n",
    "\"restore\" button to load data last saved from the file named in text box.\n",
    "\n",
    "#### This tool has been tested using Chrome on MacOS.  There are known issues on Safari in MacOS at the moment."
   ]
  },
  {
   "cell_type": "code",
   "execution_count": null,
   "metadata": {
    "collapsed": false
   },
   "outputs": [],
   "source": [
    "from spatial_transcriptomics_viz import spot_annotator"
   ]
  },
  {
   "cell_type": "code",
   "execution_count": null,
   "metadata": {
    "collapsed": true
   },
   "outputs": [],
   "source": [
    "# This unpublished sample data is not included in the github repository.\n",
    "image_path = \"../data/CN71_D1.jpg\"\n",
    "tsv_data_path = \"../data/CN71_D1.tsv\""
   ]
  },
  {
   "cell_type": "code",
   "execution_count": null,
   "metadata": {
    "collapsed": false
   },
   "outputs": [],
   "source": [
    "A = spot_annotator.SpotAnnotator(tsv_data_path, image_path)"
   ]
  },
  {
   "cell_type": "code",
   "execution_count": null,
   "metadata": {
    "collapsed": false
   },
   "outputs": [],
   "source": [
    "A.show()"
   ]
  },
  {
   "cell_type": "code",
   "execution_count": null,
   "metadata": {
    "collapsed": true
   },
   "outputs": [],
   "source": []
  }
 ],
 "metadata": {
  "kernelspec": {
   "display_name": "Python 2",
   "language": "python",
   "name": "python2"
  },
  "language_info": {
   "codemirror_mode": {
    "name": "ipython",
    "version": 2
   },
   "file_extension": ".py",
   "mimetype": "text/x-python",
   "name": "python",
   "nbconvert_exporter": "python",
   "pygments_lexer": "ipython2",
   "version": "2.7.11"
  },
  "widgets": {
   "state": {
    "03bd4c624d7b4673b3d525d083a0a8b1": {
     "views": []
    },
    "186cf4b1b0884f2c922384d79163330d": {
     "views": []
    },
    "18864ac0dd644bf2afa76964fe75f093": {
     "views": []
    },
    "36b476988db84fb68311f39aacd05776": {
     "views": []
    },
    "61e13bf11c7e44ddafedb225ee0fe776": {
     "views": []
    },
    "658f781ba3c942afa7f0f7c3925c2d69": {
     "views": []
    },
    "83cc209a6e0443a9945bf6d350c89928": {
     "views": []
    },
    "8cc1e82ee83b41dfb498f5ed894326db": {
     "views": []
    },
    "8e48ae3b8bb14833a34c095f8098e59a": {
     "views": []
    },
    "92dadfa8550b41a3828049ebd3eba80d": {
     "views": []
    },
    "9432623927cf433088b65fe073309433": {
     "views": []
    },
    "9fbd9d3484034730becb186b7ab270cb": {
     "views": []
    },
    "a0f4a597c0d8486086ba8f1a05fc3448": {
     "views": []
    },
    "a8d513379f0b438f91d0ca962cf99868": {
     "views": []
    },
    "c1620381c1c64104b077b2c932252dd5": {
     "views": [
      {
       "cell_index": 4
      }
     ]
    },
    "c545d3be23de4a468906706c738f4dfe": {
     "views": []
    },
    "e6991b741ec840e789ccb6b83e79906a": {
     "views": []
    },
    "e869b36b73c947c5bbeebe2c028ccbbd": {
     "views": []
    },
    "f3bb73504e4049f09b5dc78d41e34f63": {
     "views": []
    },
    "fac767b8f5574186a870fd723513de91": {
     "views": []
    }
   },
   "version": "1.1.1"
  }
 },
 "nbformat": 4,
 "nbformat_minor": 0
}
