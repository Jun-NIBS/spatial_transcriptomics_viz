{
 "cells": [
  {
   "cell_type": "markdown",
   "metadata": {},
   "source": [
    "### Spot annotator\n",
    "\n",
    "This tool is designed to help identify anatomical categories for locations\n",
    "on microscopy slides.\n",
    "\n",
    "Select the label to apply to spots and then click the spots in the left display.\n",
    "The right display will show image detail under the last mouse click.\n",
    "\n",
    "Use the \"save\" button to archive categories to the\n",
    "file named in the textbox.  Use the\n",
    "\"restore\" button to load data last saved from the file named in text box.\n",
    "\n",
    "#### This tool has been tested using Chrome on MacOS.  There are known issues on Safari in MacOS at the moment."
   ]
  },
  {
   "cell_type": "code",
   "execution_count": null,
   "metadata": {
    "collapsed": false
   },
   "outputs": [],
   "source": [
    "from spatial_transcriptomics_viz import spot_annotator"
   ]
  },
  {
   "cell_type": "code",
   "execution_count": null,
   "metadata": {
    "collapsed": true
   },
   "outputs": [],
   "source": [
    "# This unpublished sample data is not included in the github repository.\n",
    "image_path = \"../data/CN71_D1.jpg\"\n",
    "tsv_data_path = \"../data/CN71_D1.tsv\"\n",
    "spots_path = \"../data/CN71_D1_spots.jpg\""
   ]
  },
  {
   "cell_type": "code",
   "execution_count": null,
   "metadata": {
    "collapsed": false
   },
   "outputs": [],
   "source": [
    "A = spot_annotator.SpotAnnotator(tsv_data_path, image_path, radius=0.3, \n",
    "                                 spots_path=spots_path)"
   ]
  },
  {
   "cell_type": "code",
   "execution_count": null,
   "metadata": {
    "collapsed": false
   },
   "outputs": [],
   "source": [
    "A.show()"
   ]
  },
  {
   "cell_type": "code",
   "execution_count": null,
   "metadata": {
    "collapsed": true
   },
   "outputs": [],
   "source": []
  }
 ],
 "metadata": {
  "kernelspec": {
   "display_name": "Python 2",
   "language": "python",
   "name": "python2"
  },
  "language_info": {
   "codemirror_mode": {
    "name": "ipython",
    "version": 2
   },
   "file_extension": ".py",
   "mimetype": "text/x-python",
   "name": "python",
   "nbconvert_exporter": "python",
   "pygments_lexer": "ipython2",
   "version": "2.7.13"
  },
  "widgets": {
   "state": {
    "0117b0d2a29e49cda5aacd5279ec51ce": {
     "views": []
    },
    "0cf5570ab6884af8831364d90d4c8826": {
     "views": []
    },
    "166eae143f41478b803732179f1d839e": {
     "views": []
    },
    "1d1297b9e19d4be8a46f3c723dab7438": {
     "views": []
    },
    "23ae9970e24e4db691cc07c0024af2a7": {
     "views": []
    },
    "2b95e6e07b744934b18baa3990cc43c7": {
     "views": []
    },
    "3156ff08a6144c33821e18530293702e": {
     "views": []
    },
    "3bdc0a9b6396474bb8c04ca1d3ad80ec": {
     "views": []
    },
    "58486e35fc234d2c928730a0bf2f4440": {
     "views": []
    },
    "77d1735300534f449f2e4799b22b5f85": {
     "views": []
    },
    "803d8f11aeed4ece8d009e74083efeda": {
     "views": []
    },
    "8347c013f177429083b85cc0b9907d35": {
     "views": []
    },
    "957c1262631b4e5087e65456b695379b": {
     "views": []
    },
    "97946aa099924c6aa152c17682f568ca": {
     "views": []
    },
    "9c95a907600d410787680506cf8f4a39": {
     "views": []
    },
    "9d76179a31e549418d4c95771d42a9f0": {
     "views": [
      {
       "cell_index": 4
      }
     ]
    },
    "a3bf78a361c54528bf326a4e5a955622": {
     "views": []
    },
    "a59efac0fbf44c0abcdd53fbc83886ee": {
     "views": []
    },
    "aab087120cee4d178644b2ab5310493a": {
     "views": []
    },
    "cadc601415ec428189936571f1aa7897": {
     "views": []
    },
    "d5ae9dbd0c284e74b8ffdcfc491fb473": {
     "views": []
    },
    "d852d61b1a1b45bf846abe2934424ad3": {
     "views": []
    }
   },
   "version": "1.1.1"
  }
 },
 "nbformat": 4,
 "nbformat_minor": 0
}
